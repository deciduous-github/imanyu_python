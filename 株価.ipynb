{
 "cells": [
  {
   "cell_type": "code",
   "execution_count": 1,
   "outputs": [],
   "source": [
    "%matplotlib inline\n",
    "import pandas as pd\n",
    "import matplotlib.pyplot as plt\n",
    "import yfinance as yf\n"
   ],
   "metadata": {
    "collapsed": false,
    "pycharm": {
     "name": "#%%\n"
    }
   }
  },
  {
   "cell_type": "code",
   "execution_count": 2,
   "outputs": [
    {
     "data": {
      "text/plain": "         Date        Open        High         Low       Close     Volume  \\\n0  2021-04-15  133.593087  134.771079  133.413385  134.271927   89347100   \n1  2021-04-16  134.072272  134.441640  133.053998  133.932510   84922400   \n2  2021-04-19  133.283597  135.240280  133.113887  134.611343   94264200   \n3  2021-04-20  134.791058  135.300187  131.586494  132.884293   94812300   \n4  2021-04-21  132.135554  133.523197  131.077354  133.273621   68847100   \n5  2021-04-22  132.814404  133.922522  131.187178  131.716278   84566500   \n6  2021-04-23  131.935898  134.890871  131.935898  134.092239   78657500   \n7  2021-04-26  134.601376  134.830982  133.333525  134.491562   66905100   \n8  2021-04-27  134.781053  135.180384  133.882585  134.162109   66015800   \n9  2021-04-28  134.082243  134.791046  132.854333  133.353485  107760100   \n10 2021-04-29  136.238598  136.837586  132.225410  133.253662  151101000   \n11 2021-04-30  131.556541  133.333521  130.847753  131.237091  109713200   \n12 2021-05-03  131.816094  133.842666  131.606459  132.315247   75135100   \n13 2021-05-04  130.967542  131.267036  126.485150  127.633202  137564700   \n14 2021-05-05  128.980915  130.228796  127.753005  127.882790   84000900   \n15 2021-05-06  127.673135  129.529982  126.914422  129.520004   78128300   \n16 2021-05-07  130.850006  131.259995  129.479996  130.210007   78892700   \n17 2021-05-10  129.410004  129.539993  126.809998  126.849998   88071200   \n18 2021-05-11  123.500000  126.269997  122.769997  125.910004  126142800   \n19 2021-05-12  123.400002  124.639999  122.250000  122.769997  111936100   \n\n    Dividends  Stock Splits  \n0        0.00             0  \n1        0.00             0  \n2        0.00             0  \n3        0.00             0  \n4        0.00             0  \n5        0.00             0  \n6        0.00             0  \n7        0.00             0  \n8        0.00             0  \n9        0.00             0  \n10       0.00             0  \n11       0.00             0  \n12       0.00             0  \n13       0.00             0  \n14       0.00             0  \n15       0.00             0  \n16       0.22             0  \n17       0.00             0  \n18       0.00             0  \n19       0.00             0  ",
      "text/html": "<div>\n<style scoped>\n    .dataframe tbody tr th:only-of-type {\n        vertical-align: middle;\n    }\n\n    .dataframe tbody tr th {\n        vertical-align: top;\n    }\n\n    .dataframe thead th {\n        text-align: right;\n    }\n</style>\n<table border=\"1\" class=\"dataframe\">\n  <thead>\n    <tr style=\"text-align: right;\">\n      <th></th>\n      <th>Date</th>\n      <th>Open</th>\n      <th>High</th>\n      <th>Low</th>\n      <th>Close</th>\n      <th>Volume</th>\n      <th>Dividends</th>\n      <th>Stock Splits</th>\n    </tr>\n  </thead>\n  <tbody>\n    <tr>\n      <th>0</th>\n      <td>2021-04-15</td>\n      <td>133.593087</td>\n      <td>134.771079</td>\n      <td>133.413385</td>\n      <td>134.271927</td>\n      <td>89347100</td>\n      <td>0.00</td>\n      <td>0</td>\n    </tr>\n    <tr>\n      <th>1</th>\n      <td>2021-04-16</td>\n      <td>134.072272</td>\n      <td>134.441640</td>\n      <td>133.053998</td>\n      <td>133.932510</td>\n      <td>84922400</td>\n      <td>0.00</td>\n      <td>0</td>\n    </tr>\n    <tr>\n      <th>2</th>\n      <td>2021-04-19</td>\n      <td>133.283597</td>\n      <td>135.240280</td>\n      <td>133.113887</td>\n      <td>134.611343</td>\n      <td>94264200</td>\n      <td>0.00</td>\n      <td>0</td>\n    </tr>\n    <tr>\n      <th>3</th>\n      <td>2021-04-20</td>\n      <td>134.791058</td>\n      <td>135.300187</td>\n      <td>131.586494</td>\n      <td>132.884293</td>\n      <td>94812300</td>\n      <td>0.00</td>\n      <td>0</td>\n    </tr>\n    <tr>\n      <th>4</th>\n      <td>2021-04-21</td>\n      <td>132.135554</td>\n      <td>133.523197</td>\n      <td>131.077354</td>\n      <td>133.273621</td>\n      <td>68847100</td>\n      <td>0.00</td>\n      <td>0</td>\n    </tr>\n    <tr>\n      <th>5</th>\n      <td>2021-04-22</td>\n      <td>132.814404</td>\n      <td>133.922522</td>\n      <td>131.187178</td>\n      <td>131.716278</td>\n      <td>84566500</td>\n      <td>0.00</td>\n      <td>0</td>\n    </tr>\n    <tr>\n      <th>6</th>\n      <td>2021-04-23</td>\n      <td>131.935898</td>\n      <td>134.890871</td>\n      <td>131.935898</td>\n      <td>134.092239</td>\n      <td>78657500</td>\n      <td>0.00</td>\n      <td>0</td>\n    </tr>\n    <tr>\n      <th>7</th>\n      <td>2021-04-26</td>\n      <td>134.601376</td>\n      <td>134.830982</td>\n      <td>133.333525</td>\n      <td>134.491562</td>\n      <td>66905100</td>\n      <td>0.00</td>\n      <td>0</td>\n    </tr>\n    <tr>\n      <th>8</th>\n      <td>2021-04-27</td>\n      <td>134.781053</td>\n      <td>135.180384</td>\n      <td>133.882585</td>\n      <td>134.162109</td>\n      <td>66015800</td>\n      <td>0.00</td>\n      <td>0</td>\n    </tr>\n    <tr>\n      <th>9</th>\n      <td>2021-04-28</td>\n      <td>134.082243</td>\n      <td>134.791046</td>\n      <td>132.854333</td>\n      <td>133.353485</td>\n      <td>107760100</td>\n      <td>0.00</td>\n      <td>0</td>\n    </tr>\n    <tr>\n      <th>10</th>\n      <td>2021-04-29</td>\n      <td>136.238598</td>\n      <td>136.837586</td>\n      <td>132.225410</td>\n      <td>133.253662</td>\n      <td>151101000</td>\n      <td>0.00</td>\n      <td>0</td>\n    </tr>\n    <tr>\n      <th>11</th>\n      <td>2021-04-30</td>\n      <td>131.556541</td>\n      <td>133.333521</td>\n      <td>130.847753</td>\n      <td>131.237091</td>\n      <td>109713200</td>\n      <td>0.00</td>\n      <td>0</td>\n    </tr>\n    <tr>\n      <th>12</th>\n      <td>2021-05-03</td>\n      <td>131.816094</td>\n      <td>133.842666</td>\n      <td>131.606459</td>\n      <td>132.315247</td>\n      <td>75135100</td>\n      <td>0.00</td>\n      <td>0</td>\n    </tr>\n    <tr>\n      <th>13</th>\n      <td>2021-05-04</td>\n      <td>130.967542</td>\n      <td>131.267036</td>\n      <td>126.485150</td>\n      <td>127.633202</td>\n      <td>137564700</td>\n      <td>0.00</td>\n      <td>0</td>\n    </tr>\n    <tr>\n      <th>14</th>\n      <td>2021-05-05</td>\n      <td>128.980915</td>\n      <td>130.228796</td>\n      <td>127.753005</td>\n      <td>127.882790</td>\n      <td>84000900</td>\n      <td>0.00</td>\n      <td>0</td>\n    </tr>\n    <tr>\n      <th>15</th>\n      <td>2021-05-06</td>\n      <td>127.673135</td>\n      <td>129.529982</td>\n      <td>126.914422</td>\n      <td>129.520004</td>\n      <td>78128300</td>\n      <td>0.00</td>\n      <td>0</td>\n    </tr>\n    <tr>\n      <th>16</th>\n      <td>2021-05-07</td>\n      <td>130.850006</td>\n      <td>131.259995</td>\n      <td>129.479996</td>\n      <td>130.210007</td>\n      <td>78892700</td>\n      <td>0.22</td>\n      <td>0</td>\n    </tr>\n    <tr>\n      <th>17</th>\n      <td>2021-05-10</td>\n      <td>129.410004</td>\n      <td>129.539993</td>\n      <td>126.809998</td>\n      <td>126.849998</td>\n      <td>88071200</td>\n      <td>0.00</td>\n      <td>0</td>\n    </tr>\n    <tr>\n      <th>18</th>\n      <td>2021-05-11</td>\n      <td>123.500000</td>\n      <td>126.269997</td>\n      <td>122.769997</td>\n      <td>125.910004</td>\n      <td>126142800</td>\n      <td>0.00</td>\n      <td>0</td>\n    </tr>\n    <tr>\n      <th>19</th>\n      <td>2021-05-12</td>\n      <td>123.400002</td>\n      <td>124.639999</td>\n      <td>122.250000</td>\n      <td>122.769997</td>\n      <td>111936100</td>\n      <td>0.00</td>\n      <td>0</td>\n    </tr>\n  </tbody>\n</table>\n</div>"
     },
     "execution_count": 2,
     "metadata": {},
     "output_type": "execute_result"
    }
   ],
   "source": [
    "aapl = yf.Ticker('AAPL')\n",
    "\n",
    "days = 20\n",
    "hist = aapl.history(period=f'{days}d')\n",
    "\n",
    "hist.reset_index()"
   ],
   "metadata": {
    "collapsed": false,
    "pycharm": {
     "name": "#%%\n"
    }
   }
  },
  {
   "cell_type": "code",
   "execution_count": 3,
   "outputs": [],
   "source": [
    "hist.index = hist.index.strftime('%d %B %Y')"
   ],
   "metadata": {
    "collapsed": false,
    "pycharm": {
     "name": "#%%\n"
    }
   }
  },
  {
   "cell_type": "code",
   "execution_count": 4,
   "outputs": [
    {
     "data": {
      "text/plain": "                     Open        High         Low       Close    Volume  \\\nDate                                                                      \n15 April 2021  133.593087  134.771079  133.413385  134.271927  89347100   \n16 April 2021  134.072272  134.441640  133.053998  133.932510  84922400   \n19 April 2021  133.283597  135.240280  133.113887  134.611343  94264200   \n20 April 2021  134.791058  135.300187  131.586494  132.884293  94812300   \n21 April 2021  132.135554  133.523197  131.077354  133.273621  68847100   \n\n               Dividends  Stock Splits  \nDate                                    \n15 April 2021        0.0             0  \n16 April 2021        0.0             0  \n19 April 2021        0.0             0  \n20 April 2021        0.0             0  \n21 April 2021        0.0             0  ",
      "text/html": "<div>\n<style scoped>\n    .dataframe tbody tr th:only-of-type {\n        vertical-align: middle;\n    }\n\n    .dataframe tbody tr th {\n        vertical-align: top;\n    }\n\n    .dataframe thead th {\n        text-align: right;\n    }\n</style>\n<table border=\"1\" class=\"dataframe\">\n  <thead>\n    <tr style=\"text-align: right;\">\n      <th></th>\n      <th>Open</th>\n      <th>High</th>\n      <th>Low</th>\n      <th>Close</th>\n      <th>Volume</th>\n      <th>Dividends</th>\n      <th>Stock Splits</th>\n    </tr>\n    <tr>\n      <th>Date</th>\n      <th></th>\n      <th></th>\n      <th></th>\n      <th></th>\n      <th></th>\n      <th></th>\n      <th></th>\n    </tr>\n  </thead>\n  <tbody>\n    <tr>\n      <th>15 April 2021</th>\n      <td>133.593087</td>\n      <td>134.771079</td>\n      <td>133.413385</td>\n      <td>134.271927</td>\n      <td>89347100</td>\n      <td>0.0</td>\n      <td>0</td>\n    </tr>\n    <tr>\n      <th>16 April 2021</th>\n      <td>134.072272</td>\n      <td>134.441640</td>\n      <td>133.053998</td>\n      <td>133.932510</td>\n      <td>84922400</td>\n      <td>0.0</td>\n      <td>0</td>\n    </tr>\n    <tr>\n      <th>19 April 2021</th>\n      <td>133.283597</td>\n      <td>135.240280</td>\n      <td>133.113887</td>\n      <td>134.611343</td>\n      <td>94264200</td>\n      <td>0.0</td>\n      <td>0</td>\n    </tr>\n    <tr>\n      <th>20 April 2021</th>\n      <td>134.791058</td>\n      <td>135.300187</td>\n      <td>131.586494</td>\n      <td>132.884293</td>\n      <td>94812300</td>\n      <td>0.0</td>\n      <td>0</td>\n    </tr>\n    <tr>\n      <th>21 April 2021</th>\n      <td>132.135554</td>\n      <td>133.523197</td>\n      <td>131.077354</td>\n      <td>133.273621</td>\n      <td>68847100</td>\n      <td>0.0</td>\n      <td>0</td>\n    </tr>\n  </tbody>\n</table>\n</div>"
     },
     "execution_count": 4,
     "metadata": {},
     "output_type": "execute_result"
    }
   ],
   "source": [
    "hist.head()"
   ],
   "metadata": {
    "collapsed": false,
    "pycharm": {
     "name": "#%%\n"
    }
   }
  },
  {
   "cell_type": "code",
   "execution_count": 5,
   "outputs": [],
   "source": [
    "hist = hist[['Close']]"
   ],
   "metadata": {
    "collapsed": false,
    "pycharm": {
     "name": "#%%\n"
    }
   }
  },
  {
   "cell_type": "code",
   "execution_count": 6,
   "outputs": [
    {
     "data": {
      "text/plain": "                    apple\nDate                     \n15 April 2021  134.271927\n16 April 2021  133.932510\n19 April 2021  134.611343\n20 April 2021  132.884293\n21 April 2021  133.273621",
      "text/html": "<div>\n<style scoped>\n    .dataframe tbody tr th:only-of-type {\n        vertical-align: middle;\n    }\n\n    .dataframe tbody tr th {\n        vertical-align: top;\n    }\n\n    .dataframe thead th {\n        text-align: right;\n    }\n</style>\n<table border=\"1\" class=\"dataframe\">\n  <thead>\n    <tr style=\"text-align: right;\">\n      <th></th>\n      <th>apple</th>\n    </tr>\n    <tr>\n      <th>Date</th>\n      <th></th>\n    </tr>\n  </thead>\n  <tbody>\n    <tr>\n      <th>15 April 2021</th>\n      <td>134.271927</td>\n    </tr>\n    <tr>\n      <th>16 April 2021</th>\n      <td>133.932510</td>\n    </tr>\n    <tr>\n      <th>19 April 2021</th>\n      <td>134.611343</td>\n    </tr>\n    <tr>\n      <th>20 April 2021</th>\n      <td>132.884293</td>\n    </tr>\n    <tr>\n      <th>21 April 2021</th>\n      <td>133.273621</td>\n    </tr>\n  </tbody>\n</table>\n</div>"
     },
     "execution_count": 6,
     "metadata": {},
     "output_type": "execute_result"
    }
   ],
   "source": [
    "hist.columns = ['apple']\n",
    "hist.head()"
   ],
   "metadata": {
    "collapsed": false,
    "pycharm": {
     "name": "#%%\n"
    }
   }
  },
  {
   "cell_type": "code",
   "execution_count": 7,
   "outputs": [],
   "source": [
    "hist = hist.T"
   ],
   "metadata": {
    "collapsed": false,
    "pycharm": {
     "name": "#%%\n"
    }
   }
  },
  {
   "cell_type": "code",
   "execution_count": 8,
   "outputs": [],
   "source": [
    "hist.index.name = 'Name'"
   ],
   "metadata": {
    "collapsed": false,
    "pycharm": {
     "name": "#%%\n"
    }
   }
  },
  {
   "cell_type": "code",
   "execution_count": 9,
   "outputs": [
    {
     "data": {
      "text/plain": "Date   15 April 2021  16 April 2021  19 April 2021  20 April 2021  \\\nName                                                                \napple     134.271927      133.93251     134.611343     132.884293   \n\nDate   21 April 2021  22 April 2021  23 April 2021  26 April 2021  \\\nName                                                                \napple     133.273621     131.716278     134.092239     134.491562   \n\nDate   27 April 2021  28 April 2021  29 April 2021  30 April 2021  \\\nName                                                                \napple     134.162109     133.353485     133.253662     131.237091   \n\nDate   03 May 2021  04 May 2021  05 May 2021  06 May 2021  07 May 2021  \\\nName                                                                     \napple   132.315247   127.633202    127.88279   129.520004   130.210007   \n\nDate   10 May 2021  11 May 2021  12 May 2021  \nName                                          \napple   126.849998   125.910004   122.769997  ",
      "text/html": "<div>\n<style scoped>\n    .dataframe tbody tr th:only-of-type {\n        vertical-align: middle;\n    }\n\n    .dataframe tbody tr th {\n        vertical-align: top;\n    }\n\n    .dataframe thead th {\n        text-align: right;\n    }\n</style>\n<table border=\"1\" class=\"dataframe\">\n  <thead>\n    <tr style=\"text-align: right;\">\n      <th>Date</th>\n      <th>15 April 2021</th>\n      <th>16 April 2021</th>\n      <th>19 April 2021</th>\n      <th>20 April 2021</th>\n      <th>21 April 2021</th>\n      <th>22 April 2021</th>\n      <th>23 April 2021</th>\n      <th>26 April 2021</th>\n      <th>27 April 2021</th>\n      <th>28 April 2021</th>\n      <th>29 April 2021</th>\n      <th>30 April 2021</th>\n      <th>03 May 2021</th>\n      <th>04 May 2021</th>\n      <th>05 May 2021</th>\n      <th>06 May 2021</th>\n      <th>07 May 2021</th>\n      <th>10 May 2021</th>\n      <th>11 May 2021</th>\n      <th>12 May 2021</th>\n    </tr>\n    <tr>\n      <th>Name</th>\n      <th></th>\n      <th></th>\n      <th></th>\n      <th></th>\n      <th></th>\n      <th></th>\n      <th></th>\n      <th></th>\n      <th></th>\n      <th></th>\n      <th></th>\n      <th></th>\n      <th></th>\n      <th></th>\n      <th></th>\n      <th></th>\n      <th></th>\n      <th></th>\n      <th></th>\n      <th></th>\n    </tr>\n  </thead>\n  <tbody>\n    <tr>\n      <th>apple</th>\n      <td>134.271927</td>\n      <td>133.93251</td>\n      <td>134.611343</td>\n      <td>132.884293</td>\n      <td>133.273621</td>\n      <td>131.716278</td>\n      <td>134.092239</td>\n      <td>134.491562</td>\n      <td>134.162109</td>\n      <td>133.353485</td>\n      <td>133.253662</td>\n      <td>131.237091</td>\n      <td>132.315247</td>\n      <td>127.633202</td>\n      <td>127.88279</td>\n      <td>129.520004</td>\n      <td>130.210007</td>\n      <td>126.849998</td>\n      <td>125.910004</td>\n      <td>122.769997</td>\n    </tr>\n  </tbody>\n</table>\n</div>"
     },
     "execution_count": 9,
     "metadata": {},
     "output_type": "execute_result"
    }
   ],
   "source": [
    "hist\n"
   ],
   "metadata": {
    "collapsed": false,
    "pycharm": {
     "name": "#%%\n"
    }
   }
  },
  {
   "cell_type": "code",
   "execution_count": 9,
   "outputs": [],
   "source": [],
   "metadata": {
    "collapsed": false,
    "pycharm": {
     "name": "#%%\n"
    }
   }
  }
 ],
 "metadata": {
  "kernelspec": {
   "display_name": "Python 3",
   "language": "python",
   "name": "python3"
  },
  "language_info": {
   "codemirror_mode": {
    "name": "ipython",
    "version": 2
   },
   "file_extension": ".py",
   "mimetype": "text/x-python",
   "name": "python",
   "nbconvert_exporter": "python",
   "pygments_lexer": "ipython2",
   "version": "2.7.6"
  }
 },
 "nbformat": 4,
 "nbformat_minor": 0
}