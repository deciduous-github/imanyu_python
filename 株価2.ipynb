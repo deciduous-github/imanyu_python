{
 "cells": [
  {
   "cell_type": "code",
   "execution_count": 24,
   "metadata": {
    "collapsed": true
   },
   "outputs": [],
   "source": [
    "%matplotlib inline\n",
    "import pandas as pd\n",
    "import matplotlib.pyplot as plt\n",
    "import yfinance as yf"
   ]
  },
  {
   "cell_type": "code",
   "execution_count": 25,
   "outputs": [],
   "source": [
    "tickers = {\n",
    "    'apple': 'AAPL',\n",
    "    'facebook': 'FB',\n",
    "    'google': 'GOOGL',\n",
    "    'microsoft': 'NFLX',\n",
    "    'amazon': 'AMZN',\n",
    "}\n",
    "\n",
    "def get_data(days, tickers):\n",
    "    df = pd.DataFrame()\n",
    "    for company in tickers.keys():\n",
    "        tkr = yf.Ticker(tickers[company])\n",
    "        hist = tkr.history(period=f'{days}d')\n",
    "        hist.index = hist.index.strftime('%d %B %Y')\n",
    "        hist = hist[['Close']]\n",
    "        hist.columns = [company]\n",
    "        hist = hist.T\n",
    "        hist.index.name = 'Name'\n",
    "        df = pd.concat([df,hist])\n",
    "    return df"
   ],
   "metadata": {
    "collapsed": false,
    "pycharm": {
     "name": "#%%\n"
    }
   }
  },
  {
   "cell_type": "code",
   "execution_count": 26,
   "outputs": [
    {
     "data": {
      "text/plain": "Date       15 April 2021  16 April 2021  19 April 2021  20 April 2021  \\\nName                                                                    \napple         134.271927     133.932510     134.611343     132.884293   \nfacebook      307.820007     306.179993     302.239990     302.649994   \ngoogle       2285.250000    2282.750000    2289.760010    2279.010010   \nmicrosoft     549.219971     546.539978     554.440002     549.570007   \namazon       3379.090088    3399.439941    3372.010010    3334.689941   \n\nDate       21 April 2021  22 April 2021  23 April 2021  26 April 2021  \\\nName                                                                    \napple         133.273621     131.716278     134.092239     134.491562   \nfacebook      301.470001     296.519989     301.130005     303.040009   \ngoogle       2278.350098    2252.520020    2299.929932    2309.929932   \nmicrosoft     508.899994     508.779999     505.549988     510.299988   \namazon       3362.020020    3309.040039    3340.879883    3409.000000   \n\nDate       27 April 2021  28 April 2021  29 April 2021  30 April 2021  \\\nName                                                                    \napple         134.162109     133.353485     133.253662     131.237091   \nfacebook      303.570007     307.100006     329.510010     325.079987   \ngoogle       2290.979980    2359.040039    2392.760010    2353.500000   \nmicrosoft     505.549988     506.519989     509.000000     513.469971   \namazon       3417.429932    3458.500000    3471.310059    3467.419922   \n\nDate       03 May 2021  04 May 2021  05 May 2021  06 May 2021  07 May 2021  \\\nName                                                                         \napple       132.315247   127.633202   127.882790   129.520004   130.210007   \nfacebook    322.579987   318.359985   315.019989   320.019989   319.079987   \ngoogle     2343.080078  2306.830078  2314.770020  2337.350098  2351.929932   \nmicrosoft   509.109985   503.179993   496.079987   499.549988   503.839996   \namazon     3386.489990  3311.870117  3270.540039  3306.370117  3291.610107   \n\nDate       10 May 2021  11 May 2021  12 May 2021  \nName                                              \napple       126.849998   125.910004   122.769997  \nfacebook    305.970001   306.529999   302.549988  \ngoogle     2291.750000  2270.060059  2200.250000  \nmicrosoft   486.690002   495.079987   484.980011  \namazon     3190.489990  3223.909912  3151.939941  ",
      "text/html": "<div>\n<style scoped>\n    .dataframe tbody tr th:only-of-type {\n        vertical-align: middle;\n    }\n\n    .dataframe tbody tr th {\n        vertical-align: top;\n    }\n\n    .dataframe thead th {\n        text-align: right;\n    }\n</style>\n<table border=\"1\" class=\"dataframe\">\n  <thead>\n    <tr style=\"text-align: right;\">\n      <th>Date</th>\n      <th>15 April 2021</th>\n      <th>16 April 2021</th>\n      <th>19 April 2021</th>\n      <th>20 April 2021</th>\n      <th>21 April 2021</th>\n      <th>22 April 2021</th>\n      <th>23 April 2021</th>\n      <th>26 April 2021</th>\n      <th>27 April 2021</th>\n      <th>28 April 2021</th>\n      <th>29 April 2021</th>\n      <th>30 April 2021</th>\n      <th>03 May 2021</th>\n      <th>04 May 2021</th>\n      <th>05 May 2021</th>\n      <th>06 May 2021</th>\n      <th>07 May 2021</th>\n      <th>10 May 2021</th>\n      <th>11 May 2021</th>\n      <th>12 May 2021</th>\n    </tr>\n    <tr>\n      <th>Name</th>\n      <th></th>\n      <th></th>\n      <th></th>\n      <th></th>\n      <th></th>\n      <th></th>\n      <th></th>\n      <th></th>\n      <th></th>\n      <th></th>\n      <th></th>\n      <th></th>\n      <th></th>\n      <th></th>\n      <th></th>\n      <th></th>\n      <th></th>\n      <th></th>\n      <th></th>\n      <th></th>\n    </tr>\n  </thead>\n  <tbody>\n    <tr>\n      <th>apple</th>\n      <td>134.271927</td>\n      <td>133.932510</td>\n      <td>134.611343</td>\n      <td>132.884293</td>\n      <td>133.273621</td>\n      <td>131.716278</td>\n      <td>134.092239</td>\n      <td>134.491562</td>\n      <td>134.162109</td>\n      <td>133.353485</td>\n      <td>133.253662</td>\n      <td>131.237091</td>\n      <td>132.315247</td>\n      <td>127.633202</td>\n      <td>127.882790</td>\n      <td>129.520004</td>\n      <td>130.210007</td>\n      <td>126.849998</td>\n      <td>125.910004</td>\n      <td>122.769997</td>\n    </tr>\n    <tr>\n      <th>facebook</th>\n      <td>307.820007</td>\n      <td>306.179993</td>\n      <td>302.239990</td>\n      <td>302.649994</td>\n      <td>301.470001</td>\n      <td>296.519989</td>\n      <td>301.130005</td>\n      <td>303.040009</td>\n      <td>303.570007</td>\n      <td>307.100006</td>\n      <td>329.510010</td>\n      <td>325.079987</td>\n      <td>322.579987</td>\n      <td>318.359985</td>\n      <td>315.019989</td>\n      <td>320.019989</td>\n      <td>319.079987</td>\n      <td>305.970001</td>\n      <td>306.529999</td>\n      <td>302.549988</td>\n    </tr>\n    <tr>\n      <th>google</th>\n      <td>2285.250000</td>\n      <td>2282.750000</td>\n      <td>2289.760010</td>\n      <td>2279.010010</td>\n      <td>2278.350098</td>\n      <td>2252.520020</td>\n      <td>2299.929932</td>\n      <td>2309.929932</td>\n      <td>2290.979980</td>\n      <td>2359.040039</td>\n      <td>2392.760010</td>\n      <td>2353.500000</td>\n      <td>2343.080078</td>\n      <td>2306.830078</td>\n      <td>2314.770020</td>\n      <td>2337.350098</td>\n      <td>2351.929932</td>\n      <td>2291.750000</td>\n      <td>2270.060059</td>\n      <td>2200.250000</td>\n    </tr>\n    <tr>\n      <th>microsoft</th>\n      <td>549.219971</td>\n      <td>546.539978</td>\n      <td>554.440002</td>\n      <td>549.570007</td>\n      <td>508.899994</td>\n      <td>508.779999</td>\n      <td>505.549988</td>\n      <td>510.299988</td>\n      <td>505.549988</td>\n      <td>506.519989</td>\n      <td>509.000000</td>\n      <td>513.469971</td>\n      <td>509.109985</td>\n      <td>503.179993</td>\n      <td>496.079987</td>\n      <td>499.549988</td>\n      <td>503.839996</td>\n      <td>486.690002</td>\n      <td>495.079987</td>\n      <td>484.980011</td>\n    </tr>\n    <tr>\n      <th>amazon</th>\n      <td>3379.090088</td>\n      <td>3399.439941</td>\n      <td>3372.010010</td>\n      <td>3334.689941</td>\n      <td>3362.020020</td>\n      <td>3309.040039</td>\n      <td>3340.879883</td>\n      <td>3409.000000</td>\n      <td>3417.429932</td>\n      <td>3458.500000</td>\n      <td>3471.310059</td>\n      <td>3467.419922</td>\n      <td>3386.489990</td>\n      <td>3311.870117</td>\n      <td>3270.540039</td>\n      <td>3306.370117</td>\n      <td>3291.610107</td>\n      <td>3190.489990</td>\n      <td>3223.909912</td>\n      <td>3151.939941</td>\n    </tr>\n  </tbody>\n</table>\n</div>"
     },
     "execution_count": 26,
     "metadata": {},
     "output_type": "execute_result"
    }
   ],
   "source": [
    "days = 20\n",
    "get_data(days, tickers)"
   ],
   "metadata": {
    "collapsed": false,
    "pycharm": {
     "name": "#%%\n"
    }
   }
  }
 ],
 "metadata": {
  "kernelspec": {
   "display_name": "Python 3",
   "language": "python",
   "name": "python3"
  },
  "language_info": {
   "codemirror_mode": {
    "name": "ipython",
    "version": 2
   },
   "file_extension": ".py",
   "mimetype": "text/x-python",
   "name": "python",
   "nbconvert_exporter": "python",
   "pygments_lexer": "ipython2",
   "version": "2.7.6"
  }
 },
 "nbformat": 4,
 "nbformat_minor": 0
}